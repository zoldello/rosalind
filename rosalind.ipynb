{
 "cells": [
  {
   "cell_type": "code",
   "execution_count": 45,
   "metadata": {},
   "outputs": [
    {
     "name": "stdout",
     "output_type": "stream",
     "text": [
      "236, 246, 246, 248\n"
     ]
    }
   ],
   "source": [
    "# Counting DNA Nucleotides\n",
    "dNAString = \"AACTCCGAAGGGTGGGTGTAAAAAAGTATGGGAATAAACCCTCCCGCCCTCTGCTGATGACCAGGCGCCACCCTTTTAAACGGTATGACCCGTTAACTCGCTAACCGTGCCGTATCCGCCCGCATCGTGGTCAGCACCTCCCAAGCAAGGGTCGTCGATAACCTTGCCCCAAACTGTGGATGGAAAAGCGCGATCGGATCTACTCGACACTAATTCGCTACCAATTAATGTGCGATACGCAAACGAGTATTAGAGCTTAAGAGACCAACCCAGCGGGCACAAGCGCAATCCAACGTACTCCGGCAGTGAATCCTCTAATGCCATCATTTGTACGCTTTAGGCACACACTTTTATCGCGGTGCCTTCCGTCTTCCCTCCTCATGTGCTGTAGAAACGGGACGTGTGCTCAGTAGTCCCTCCTCAGGGACGATGGCTTAGGGTTCTGGCTACCTGATTAGAGGTATGAGTTGGTTACGTCGGCCTCAATGGGGATAATTCATATACCATTAGGTACCCGTCGTATACCAGATGCCGTCAATTGAAGGTCATGGTACATGCAATTCCTCACGTTGTGACACGCTCATCTATATACGAGAGATCATTTTGTTGGTATCTTGTCTGGTTTCGTCGTTTGGTTAACGAAATTTATAAGCCGCAACCAACGCCGTGAAGAGTCTTTAAAATGCAGTAGTATGCCGCTGGTGGGCAGATCCATGTGGAAGCGGAGCGTCTTTACCCCCATGGGCATTCGCCGCGGTTTTCTGCAGAGCTTAAAGGGTGGTGTCAGAGGACGAGCTATCCAATGATTCAAGAGCAGAACGGAAATACCTTTGGCTTTAAGGCAGATTGTTGCGGCACGGAACGTCTTAACCTAATCACTTCTTTCTCAAGTGAAGGAACTGGCTTGCTTGTGCTCGGCAGCGTGACCTTCAACCGCGGACGAGTGTGTACTATCCGGGATAGCTGCAGCAGTGTC\"\n",
    "aLength = dNAString.count(\"A\")\n",
    "cLength = dNAString.count(\"C\")\n",
    "gLength = dNAString.count(\"G\")\n",
    "tLength = dNAString.count(\"T\")\n",
    "\n",
    "print(f'{aLength}, {cLength}, {gLength}, {tLength}')\n"
   ]
  },
  {
   "cell_type": "code",
   "execution_count": 47,
   "metadata": {},
   "outputs": [
    {
     "name": "stdout",
     "output_type": "stream",
     "text": [
      "UCGGGAAGUCCGCUGCCUGUCAGAAGGGUAAGGGCCUUCCGUGAGUUCGGCCACGCGUUAUUAUCAAUCUUGGCUCGCCGGAUCUAGGCCUGCAGGUGCACUUAAGCUCGACGGAGCGGAUCAAGCACUAAGUCGUCCGCCCGUCUGAGUGUAUUUGAAUUACCCAAGUAGGAAUCCUGGGCCACUCGGGUAUAUUAAUAAGUUCUAGCGUAUUAUGGCAUACAAAAUAACGCGGUGGUAAGUUGUUUCGGCUCUGGACCAAGAAUGAAUUUCCCCAAACAACGAAUUUCCGAUGAGCCUUAGGUCCCAGAUUCGUGGUCGCAAUGUCGGGGGUCUAUAAUUCCGCGGCUUCAACUCCUUCGUGUUCGUAUUCCGUUGUCGUAAAUGGUAGGCAUGGGAUCUGCGGAAGAAGAGUCACAACGGUUUUAGUCGUGCUCGCACAAUGCGCGGCAGCUCCUGAAGGUGCACAUACCGGGCCGCACGGUUGCCGCAAAAAACACCGCAACCUUAAAUUACUUGAAUCUGUAGUAGUACUAACCUGUAACGUAGCGGGGAAGCAUCACUGAUUUUAUGGAAGCAGUACCAAUUUUAGGGCGAGGGAACCUUACCCACAUCAUCAGGGUUAUGCUCGGGUGGCACGCGUGGAUGGGAGUGGAUGUCUGCUGUAGGCGCUGUGAUGUUGCCGGCUCUACUCGGGAGUCUUGUCGGUAUAUUUUGCCAGUGGAGGGUGAGGGUUCUGGGUUUAUUGGUGAUCGUUAGACGCCGUAUUAGGUCAUCCCCAUCAUUUCCAUUCAAGUGACUUCUAAGUACAUCUCAGGCGCAGGGGCAUAGGCCACGAGUGGAGCUAUCCCUCGGUGAACUGCAACGAGGAGGAGUGUCGGAAGUUUAUCUGGGUGGACGCCAGUGUAUUAAAACCCAUAGGAGCUCUACGCUUGGGUAUACCUUCGACAGGGCCGAUAACAUGUGACAGCGAGUCAAGUAAGGCCAAAGGC\n"
     ]
    }
   ],
   "source": [
    "# Transcribing DNA into RNA \n",
    "dNAString = \"TCGGGAAGTCCGCTGCCTGTCAGAAGGGTAAGGGCCTTCCGTGAGTTCGGCCACGCGTTATTATCAATCTTGGCTCGCCGGATCTAGGCCTGCAGGTGCACTTAAGCTCGACGGAGCGGATCAAGCACTAAGTCGTCCGCCCGTCTGAGTGTATTTGAATTACCCAAGTAGGAATCCTGGGCCACTCGGGTATATTAATAAGTTCTAGCGTATTATGGCATACAAAATAACGCGGTGGTAAGTTGTTTCGGCTCTGGACCAAGAATGAATTTCCCCAAACAACGAATTTCCGATGAGCCTTAGGTCCCAGATTCGTGGTCGCAATGTCGGGGGTCTATAATTCCGCGGCTTCAACTCCTTCGTGTTCGTATTCCGTTGTCGTAAATGGTAGGCATGGGATCTGCGGAAGAAGAGTCACAACGGTTTTAGTCGTGCTCGCACAATGCGCGGCAGCTCCTGAAGGTGCACATACCGGGCCGCACGGTTGCCGCAAAAAACACCGCAACCTTAAATTACTTGAATCTGTAGTAGTACTAACCTGTAACGTAGCGGGGAAGCATCACTGATTTTATGGAAGCAGTACCAATTTTAGGGCGAGGGAACCTTACCCACATCATCAGGGTTATGCTCGGGTGGCACGCGTGGATGGGAGTGGATGTCTGCTGTAGGCGCTGTGATGTTGCCGGCTCTACTCGGGAGTCTTGTCGGTATATTTTGCCAGTGGAGGGTGAGGGTTCTGGGTTTATTGGTGATCGTTAGACGCCGTATTAGGTCATCCCCATCATTTCCATTCAAGTGACTTCTAAGTACATCTCAGGCGCAGGGGCATAGGCCACGAGTGGAGCTATCCCTCGGTGAACTGCAACGAGGAGGAGTGTCGGAAGTTTATCTGGGTGGACGCCAGTGTATTAAAACCCATAGGAGCTCTACGCTTGGGTATACCTTCGACAGGGCCGATAACATGTGACAGCGAGTCAAGTAAGGCCAAAGGC\"\n",
    "rNAString = dNAString.replace('T', 'U')\n",
    "print(rNAString) "
   ]
  },
  {
   "cell_type": "code",
   "execution_count": 48,
   "metadata": {},
   "outputs": [
    {
     "name": "stdout",
     "output_type": "stream",
     "text": [
      "CTGCCATTAACTCCGCGGGTTCGAGACACCTTCGATAGATGAACTAGGCGATACTATACCCGTCTTGCTTGGATGAAGAGTGTTTTGCCCGGTCTGAGCTCTCACATAGCGATGGGACTCGCCGGACATGTTTCAAGCTTCTGTCCAAATCGATCACCCTCACCCGCAAGGTGCTCTCTGTCAGGGCGCCTCCTGACGCACCACGAACTACAGGATCATCGCATCCACGTCAACCGTCAGGCGAAGCCGAGTGCATTGAGATAATACAGGCAACCGGTTGGAGCCACGAAACTATTACTCCTTCCCACCTGACTAGGTATCATATGACTGCCATAGCGCACGCACGCGTTATTCTCTGTCGTCCTAGTTCTCGAGCCCCACATCTGACGAACAGCGGTCTACTATATCGTGGCTGACCGGAGAGCACTACCAGTATTGACAAGTCCCTTACACCAATCGCCAGTTACGACACCATGGTAACGAAGTTTCAAGAGCTACCAGTTACTCCCGCTATCACTCCATAAGCGTCAATCGAGAGGAAGACAACACCTCGTGGAGGCCGGTGGTTTTTAACCCGAAAATCTGGCGCAGTAATTCGTTGTATTTATCCACTTACTCCTGGACGCCTCTTCGTAAGCGGCTTCCTTGACACACCAGGTGACTCACCTGCGAGACGGATCCGCAACCTACACGACGTTCAGGAAGCCGGTCCAGTTTGAGTAATCTCAATGTCTAGCCCTACGTGCAGATTGTAGAGGTCGCGTCCGCAAAAAAGTACCTAGCCGTTCTCTCATCCGCCCTGCTCCGAGTACCTAAACAAAAACT\n"
     ]
    }
   ],
   "source": [
    "# Complementing a Strand of DNA\n",
    "dNAString = \"AGTTTTTGTTTAGGTACTCGGAGCAGGGCGGATGAGAGAACGGCTAGGTACTTTTTTGCGGACGCGACCTCTACAATCTGCACGTAGGGCTAGACATTGAGATTACTCAAACTGGACCGGCTTCCTGAACGTCGTGTAGGTTGCGGATCCGTCTCGCAGGTGAGTCACCTGGTGTGTCAAGGAAGCCGCTTACGAAGAGGCGTCCAGGAGTAAGTGGATAAATACAACGAATTACTGCGCCAGATTTTCGGGTTAAAAACCACCGGCCTCCACGAGGTGTTGTCTTCCTCTCGATTGACGCTTATGGAGTGATAGCGGGAGTAACTGGTAGCTCTTGAAACTTCGTTACCATGGTGTCGTAACTGGCGATTGGTGTAAGGGACTTGTCAATACTGGTAGTGCTCTCCGGTCAGCCACGATATAGTAGACCGCTGTTCGTCAGATGTGGGGCTCGAGAACTAGGACGACAGAGAATAACGCGTGCGTGCGCTATGGCAGTCATATGATACCTAGTCAGGTGGGAAGGAGTAATAGTTTCGTGGCTCCAACCGGTTGCCTGTATTATCTCAATGCACTCGGCTTCGCCTGACGGTTGACGTGGATGCGATGATCCTGTAGTTCGTGGTGCGTCAGGAGGCGCCCTGACAGAGAGCACCTTGCGGGTGAGGGTGATCGATTTGGACAGAAGCTTGAAACATGTCCGGCGAGTCCCATCGCTATGTGAGAGCTCAGACCGGGCAAAACACTCTTCATCCAAGCAAGACGGGTATAGTATCGCCTAGTTCATCTATCGAAGGTGTCTCGAACCCGCGGAGTTAATGGCAG\"\n",
    "dNAStringReversed = dNAString[::-1] # reverses string\n",
    "\n",
    "# Made lower-cased to avoid comflicts like A to T and then T to A\n",
    "dNAReversedComplement = dNAStringReversed.lower().replace('a', 'T').replace('c', 'G').replace('t', 'A').replace('g', 'C')\n",
    "print(dNAReversedComplement)\n"
   ]
  },
  {
   "cell_type": "code",
   "execution_count": 49,
   "metadata": {},
   "outputs": [
    {
     "name": "stdout",
     "output_type": "stream",
     "text": [
      "Rosalind_0808\n",
      "61.66666666666667\n"
     ]
    }
   ],
   "source": [
    "#Count GC Cont\n",
    "\n",
    "FASTA = \"\"\">Rosalind_6404\n",
    "CCTGCGGAAGATCGGCACTAGAATAGCCAGAACCGTTTCTCTGAGGCTTCCGGCCTTCCC\n",
    "TCCCACTAATAATTCTGAGG\n",
    ">Rosalind_5959\n",
    "CCATCGGTAGCGCATCCTTAGTCCAATTAAGTCCCTATCCAGGCGCTCCGCCGAAGGTCT\n",
    "ATATCCATTTGTCAGCAGACACGC\n",
    ">Rosalind_0808\n",
    "CCACCCTCGTGGTATGGCTAGGCATTCAGGAACCGGAGAACGCTTCAGACCAGCCCGGAC\n",
    "TGGGAACCTGCGGGCAGTAGGTGGAAT\"\"\"\n",
    "\n",
    "line_reads = FASTA.strip().split('>')\n",
    "\n",
    "line_reads = [line for line in line_read if line != None and line.strip() != '']\n",
    "FASTA_max_id = None\n",
    "FASTA_max_read = None\n",
    "\n",
    "for line in line_reads:\n",
    "    if line is None or line.strip() == '':\n",
    "        continue\n",
    "    \n",
    "    line_split = line.split('\\n')\n",
    "    genome = line_split[1].upper()\n",
    "    genome_count = len(genome)\n",
    "    \n",
    "    if genome_count == 0:\n",
    "        continue\n",
    "        \n",
    "    id = line_split[0]\n",
    "    \n",
    "    if not id or id.isspace():\n",
    "        continue\n",
    "    \n",
    "    g_count = genome.count('G')\n",
    "    c_count = genome.count('C')\n",
    "    genome_count = len(genome)\n",
    "    gc_content = ((g_count + c_count) / genome_count) * 100.0\n",
    "    \n",
    "    if FASTA_max_gc < gc_content:\n",
    "        FASTA_max_id = id\n",
    "        FASTA_max_read = gc_content\n",
    " \n",
    "print(\"\".join([FASTA_max_id, '\\n', str(FASTA_max_read)]))\n"
   ]
  },
  {
   "cell_type": "code",
   "execution_count": 50,
   "metadata": {},
   "outputs": [
    {
     "name": "stdout",
     "output_type": "stream",
     "text": [
      "2\n"
     ]
    }
   ],
   "source": [
    "#Finding a Motif in DNA\n",
    "\n",
    "string = 'GATATATGCATATACTT'\n",
    "sub_string = 'ATAT'\n",
    "\n",
    "\n",
    "sub_string_count = string.count(sub_string)\n",
    "\n",
    "print(sub_string_count)\n"
   ]
  },
  {
   "cell_type": "code",
   "execution_count": 56,
   "metadata": {},
   "outputs": [
    {
     "name": "stdout",
     "output_type": "stream",
     "text": [
      "MAMAPRTEINSTRING\n"
     ]
    }
   ],
   "source": [
    "#Translating RNA into Protein solved\n",
    "\n",
    "rna_condon_table = { \n",
    "    'UUU':  'F'      \n",
    "    , 'UUC':  'F'      \n",
    "    , 'UUA':  'L'      \n",
    "    , 'UUG':  'L'      \n",
    "    , 'UCU':  'S'      \n",
    "    , 'UCC':  'S'      \n",
    "    , 'UCA':  'S'      \n",
    "    , 'UCG':  'S'      \n",
    "    , 'UAU':  'Y'      \n",
    "    , 'UAC':  'Y'      \n",
    "    , 'UAA':  'STOP'   \n",
    "    , 'UAG':  'STOP'   \n",
    "    , 'UGU':  'C'      \n",
    "    , 'UGC':  'C'      \n",
    "    , 'UGA':  'STOP'   \n",
    "    , 'UGG':  'W'       \n",
    "    , 'CUU':  'L'      \n",
    "    , 'CUC':  'L'      \n",
    "    , 'CUA':  'L'      \n",
    "    , 'CUG':  'L'      \n",
    "    , 'CCU':  'P'      \n",
    "    , 'CCC':  'P'      \n",
    "    , 'CCA':  'P'      \n",
    "    , 'CCG':  'P'      \n",
    "    , 'CAU':  'H'      \n",
    "    , 'CAC':  'H'      \n",
    "    , 'CAA':  'Q'      \n",
    "    , 'CAG':  'Q'      \n",
    "    , 'CGU':  'R'      \n",
    "    , 'CGC':  'R'      \n",
    "    , 'CGA':  'R'      \n",
    "    , 'CGG':  'R'      \n",
    "    , 'AUU':  'I'      \n",
    "    , 'AUC':  'I'      \n",
    "    , 'AUA':  'I'      \n",
    "    , 'AUG':  'M'      \n",
    "    , 'ACU':  'T'      \n",
    "    , 'ACC':  'T'      \n",
    "    , 'ACA':  'T'      \n",
    "    , 'ACG':  'T'      \n",
    "    , 'AAU':  'N'      \n",
    "    , 'AAC':  'N'      \n",
    "    , 'AAA':  'K'      \n",
    "    , 'AAG':  'K'      \n",
    "    , 'AGU':  'S'      \n",
    "    , 'AGC':  'S'      \n",
    "    , 'AGA':  'R'      \n",
    "    , 'AGG':  'R'      \n",
    "    , 'GUU':  'V'\n",
    "    , 'GUC':  'V'\n",
    "    , 'GUA':  'V'\n",
    "    , 'GUG':  'V'\n",
    "    , 'GCU':  'A'\n",
    "    , 'GCC':  'A'\n",
    "    , 'GCA':  'A'\n",
    "    , 'GCG':  'A'\n",
    "    , 'GAU':  'D'\n",
    "    , 'GAC':  'D'\n",
    "    , 'GAA':  'E'\n",
    "    , 'GAG':  'E'\n",
    "    , 'GGU':  'G'\n",
    "    , 'GGC':  'G'\n",
    "    , 'GGA':  'G' \n",
    "    , 'GGG':  'G' }  \n",
    "\n",
    "    \n",
    "def get_condons(rna_string):\n",
    "    \"\"\"Return the conon an rna string encodes \"\"\"\n",
    "    \n",
    "    if not rna_string or rna_string.isspace():\n",
    "        print('rna string is empty. It must be non-empty to proceed')\n",
    "        return\n",
    "\n",
    "    rna_string_sanitized = rna_string.strip()\n",
    "    rna_string_len = len(rna_string_sanitized)\n",
    "\n",
    "    if rna_string_len % 3 != 0:\n",
    "        print('rna string cannot be broken up into groups of threes. The string is: {}'.format(rna_string_sanitized))\n",
    "        return\n",
    "\n",
    "    protein_string = []\n",
    "    \n",
    "    for i in range(0, rna_string_len, 3):\n",
    "        rna_substring = rna_string_sanitized[i: i+3]\n",
    "        condon_unsanitized = (rna_condon_table[rna_substring])\n",
    "        condon = condon_unsanitized.strip() if condon_unsanitized != None and condon_unsanitized.strip() != '' else ''\n",
    "        \n",
    "        if (condon == 'STOP'):\n",
    "            break\n",
    "            \n",
    "        protein_string.append(condon)\n",
    "        \n",
    "    return ''.join(protein_string)\n",
    "\n",
    "rna_string = 'AUGGCCAUGGCGCCCAGAACUGAGAUCAAUAGUACCCGUAUUAACGGGUGA'\n",
    "protein_string = get_condons(rna_string)\n",
    "\n",
    "print(protein_string)"
   ]
  },
  {
   "cell_type": "code",
   "execution_count": null,
   "metadata": {
    "collapsed": true
   },
   "outputs": [],
   "source": [
    "# Mendel's First Law "
   ]
  },
  {
   "cell_type": "code",
   "execution_count": 173,
   "metadata": {},
   "outputs": [
    {
     "name": "stdout",
     "output_type": "stream",
     "text": [
      "7\n"
     ]
    }
   ],
   "source": [
    "# Counting Point Mutations\n",
    "\n",
    "def get_hamming_distance(dna_string_1, dna_string_2):\n",
    "    hamming_distance = 0\n",
    "\n",
    "    if not dna_string_1 or dna_string_1.isspace():\n",
    "        print('DNA String 1 is empty; cannot process hamming distance')\n",
    "        return\n",
    "\n",
    "    if not dna_string_2 or dna_string_2.isspace():\n",
    "        print('DNA String 1 is empty; cannot process hamming distance')\n",
    "        return\n",
    "\n",
    "    dna_string_1_sanitized = dna_string_1.strip()\n",
    "    dna_string_2_sanitized = dna_string_2.strip()\n",
    "    \n",
    "    if len(dna_string_1_sanitized) != len(dna_string_2_sanitized):\n",
    "        print('DNA Strings used must be of the same length')\n",
    "        return\n",
    "\n",
    "    #  dna_string_1_sanitized could also be used\n",
    "    dna_string_length = len(dna_string_2_sanitized) \n",
    "    \n",
    "    for i in range(0, dna_string_length):\n",
    "        if dna_string_1_sanitized[i] != dna_string_2_sanitized[i]:\n",
    "            hamming_distance += 1\n",
    "\n",
    "    return hamming_distance\n",
    "\n",
    "dna_string_1 = 'GAGCCTACTAACGGGAT'\n",
    "dna_string_2 = 'CATCGTAATGACGGCCT'\n",
    "\n",
    "hamming_distance =  get_hamming_distance(dna_string_1, dna_string_2)\n",
    "print(hamming_distance)"
   ]
  },
  {
   "cell_type": "code",
   "execution_count": null,
   "metadata": {
    "collapsed": true
   },
   "outputs": [],
   "source": []
  },
  {
   "cell_type": "code",
   "execution_count": 213,
   "metadata": {},
   "outputs": [
    {
     "name": "stdout",
     "output_type": "stream",
     "text": [
      "ATGCAACT\n",
      "A: [[5 1 0 0 5 5 0 0]]\n",
      "C: [[0 0 1 4 2 0 6 1]]\n",
      "G: [[1 5 0 0 0 1 1 6]]\n",
      "T: [[1 1 6 3 0 1 0 0]]\n"
     ]
    }
   ],
   "source": [
    "# Consensus and Profile\n",
    "from numpy import matrix\n",
    "from numpy import transpose\n",
    "\n",
    "fasta_raw_data = '''>Rosalind_1\n",
    "    ATCCAGCT\n",
    "    >Rosalind_2\n",
    "    GGGCAACT\n",
    "    >Rosalind_3\n",
    "    ATGGATCT\n",
    "    >Rosalind_4\n",
    "    AAGCAACC\n",
    "    >Rosalind_5\n",
    "    TTGGAACT\n",
    "    >Rosalind_6\n",
    "    ATGCCATT\n",
    "    >Rosalind_7\n",
    "    ATGGCACT'''\n",
    "\n",
    "fasta_data_spread = [ item.strip().strip('>') for item in fasta_raw_data.split('\\n') if item != None]\n",
    "fasta_genome_spread = fasta_data_spread [1::2]\n",
    "dna_string_rows = [list(item) for item in fasta_genome_spread]\n",
    "\n",
    "dna_string_matrix = matrix(dna_string_rows)\n",
    "nucleotide_consensus = []\n",
    "dimension = dna_string_matrix.shape\n",
    "row_count = dimension[0]\n",
    "column_count = dimension[1]\n",
    "nucleotide_counts = []\n",
    "\n",
    "for j in range(0,column_count):\n",
    "    nucleotides = dna_string_matrix[0:,j]\n",
    "    nucleotide_count = {'A': 0, 'C': 0, 'T': 0, 'G': 0}\n",
    "    \n",
    "    for nucleotide_entry in nucleotides:       \n",
    "        nucleotide = nucleotide_entry[0,0]\n",
    "        nucleotide = nucleotide.strip()\n",
    "        nucleotide_count[nucleotide] += 1\n",
    "    \n",
    "    nucleotide_counts.append(nucleotide_count)\n",
    "    nucleotide_consensus.append(max(nucleotide_count.keys(), key=lambda k: nucleotide_count[k]))\n",
    "\n",
    "untransposed_nucleotide_consensus_collection_count = matrix([list(nucleotide.values()) for nucleotide in nucleotide_counts])\n",
    "nucleotide_consensus_collection_count = transpose(untransposed_nucleotide_consensus_collection_count)\n",
    "\n",
    "print(''.join(nucleotide_consensus))\n",
    "\n",
    "nucleotide_list = ['A', 'C', 'G', 'T']\n",
    "\n",
    "for i in range(0, 4):\n",
    "    print(''.join([nucleotide_list[i], ':']), end=' ')\n",
    "    print( (transpose(untransposed_nucleotide_consensus_collection_count[0:,i])) )\n"
   ]
  },
  {
   "cell_type": "code",
   "execution_count": null,
   "metadata": {
    "collapsed": true
   },
   "outputs": [],
   "source": [
    "# Mortal Fibonacci Rabbits"
   ]
  },
  {
   "cell_type": "code",
   "execution_count": null,
   "metadata": {
    "collapsed": true
   },
   "outputs": [],
   "source": [
    "# Overlap Graphs\n",
    "\n",
    "\n"
   ]
  },
  {
   "cell_type": "code",
   "execution_count": null,
   "metadata": {
    "collapsed": true
   },
   "outputs": [],
   "source": [
    "#Calculating Expected Offspring"
   ]
  },
  {
   "cell_type": "code",
   "execution_count": null,
   "metadata": {
    "collapsed": true
   },
   "outputs": [],
   "source": [
    "# Finding a Shared Motif"
   ]
  },
  {
   "cell_type": "code",
   "execution_count": null,
   "metadata": {
    "collapsed": true
   },
   "outputs": [],
   "source": [
    "# Independent Alleles"
   ]
  },
  {
   "cell_type": "code",
   "execution_count": null,
   "metadata": {
    "collapsed": true
   },
   "outputs": [],
   "source": [
    "# Finding a Protein Motif"
   ]
  },
  {
   "cell_type": "code",
   "execution_count": null,
   "metadata": {
    "collapsed": true
   },
   "outputs": [],
   "source": [
    "# Inferring mRNA from Protein"
   ]
  },
  {
   "cell_type": "code",
   "execution_count": null,
   "metadata": {
    "collapsed": true
   },
   "outputs": [],
   "source": [
    "# Open Reading Frames"
   ]
  },
  {
   "cell_type": "code",
   "execution_count": null,
   "metadata": {
    "collapsed": true
   },
   "outputs": [],
   "source": [
    "# Enumerating Gene Orders"
   ]
  },
  {
   "cell_type": "code",
   "execution_count": null,
   "metadata": {
    "collapsed": true
   },
   "outputs": [],
   "source": [
    "# Calculating Protein Mass"
   ]
  },
  {
   "cell_type": "code",
   "execution_count": null,
   "metadata": {
    "collapsed": true
   },
   "outputs": [],
   "source": [
    "# Locating Restriction Sites"
   ]
  },
  {
   "cell_type": "code",
   "execution_count": null,
   "metadata": {
    "collapsed": true
   },
   "outputs": [],
   "source": [
    "# RNA Splicing"
   ]
  },
  {
   "cell_type": "code",
   "execution_count": null,
   "metadata": {
    "collapsed": true
   },
   "outputs": [],
   "source": [
    "# Enumerating k-mers Lexicographically"
   ]
  },
  {
   "cell_type": "code",
   "execution_count": null,
   "metadata": {
    "collapsed": true
   },
   "outputs": [],
   "source": [
    "# Longest Increasing Subsequence"
   ]
  },
  {
   "cell_type": "code",
   "execution_count": null,
   "metadata": {
    "collapsed": true
   },
   "outputs": [],
   "source": [
    "# Genome Assembly as Shortest Superstring\n"
   ]
  },
  {
   "cell_type": "code",
   "execution_count": null,
   "metadata": {
    "collapsed": true
   },
   "outputs": [],
   "source": [
    "# Perfect Matchings and RNA Secondary Structures\n"
   ]
  },
  {
   "cell_type": "code",
   "execution_count": null,
   "metadata": {
    "collapsed": true
   },
   "outputs": [],
   "source": [
    "# Partial Permutations\n"
   ]
  },
  {
   "cell_type": "code",
   "execution_count": null,
   "metadata": {
    "collapsed": true
   },
   "outputs": [],
   "source": [
    "# Introduction to Random Strings\n"
   ]
  },
  {
   "cell_type": "code",
   "execution_count": null,
   "metadata": {
    "collapsed": true
   },
   "outputs": [],
   "source": [
    "# Enumerating Oriented Gene Orderings\n"
   ]
  },
  {
   "cell_type": "code",
   "execution_count": null,
   "metadata": {
    "collapsed": true
   },
   "outputs": [],
   "source": [
    "# Finding a Spliced Motif\n"
   ]
  },
  {
   "cell_type": "code",
   "execution_count": null,
   "metadata": {
    "collapsed": true
   },
   "outputs": [],
   "source": [
    "# Transitions and Transversions\n"
   ]
  },
  {
   "cell_type": "code",
   "execution_count": null,
   "metadata": {
    "collapsed": true
   },
   "outputs": [],
   "source": [
    "# Completing a Tree"
   ]
  },
  {
   "cell_type": "code",
   "execution_count": null,
   "metadata": {
    "collapsed": true
   },
   "outputs": [],
   "source": [
    "# Catalan Numbers and RNA Secondary Structures"
   ]
  },
  {
   "cell_type": "code",
   "execution_count": null,
   "metadata": {
    "collapsed": true
   },
   "outputs": [],
   "source": [
    "# Error Correction in Reads"
   ]
  },
  {
   "cell_type": "code",
   "execution_count": null,
   "metadata": {
    "collapsed": true
   },
   "outputs": [],
   "source": [
    "# Counting Phylogenetic Ancestors"
   ]
  },
  {
   "cell_type": "code",
   "execution_count": null,
   "metadata": {
    "collapsed": true
   },
   "outputs": [],
   "source": [
    "# k-Mer Composition\n"
   ]
  },
  {
   "cell_type": "code",
   "execution_count": null,
   "metadata": {
    "collapsed": true
   },
   "outputs": [],
   "source": [
    "# Speeding Up Motif Finding\n"
   ]
  },
  {
   "cell_type": "code",
   "execution_count": null,
   "metadata": {
    "collapsed": true
   },
   "outputs": [],
   "source": [
    "# Finding a Shared Spliced Motif\n"
   ]
  },
  {
   "cell_type": "code",
   "execution_count": null,
   "metadata": {
    "collapsed": true
   },
   "outputs": [],
   "source": [
    "# Ordering Strings of Varying Length Lexicographically\n"
   ]
  },
  {
   "cell_type": "code",
   "execution_count": null,
   "metadata": {
    "collapsed": true
   },
   "outputs": [],
   "source": [
    "# Maximum Matchings and RNA Secondary Structures\n"
   ]
  },
  {
   "cell_type": "code",
   "execution_count": null,
   "metadata": {
    "collapsed": true
   },
   "outputs": [],
   "source": [
    "# Creating a Distance Matrix\n"
   ]
  },
  {
   "cell_type": "code",
   "execution_count": null,
   "metadata": {
    "collapsed": true
   },
   "outputs": [],
   "source": [
    "# Reversal Distance\n"
   ]
  },
  {
   "cell_type": "code",
   "execution_count": null,
   "metadata": {
    "collapsed": true
   },
   "outputs": [],
   "source": [
    "# Matching Random Motifs\n"
   ]
  },
  {
   "cell_type": "code",
   "execution_count": null,
   "metadata": {
    "collapsed": true
   },
   "outputs": [],
   "source": [
    "# Counting Subsets"
   ]
  },
  {
   "cell_type": "code",
   "execution_count": null,
   "metadata": {
    "collapsed": true
   },
   "outputs": [],
   "source": [
    "# Introduction to Alternative Splicing"
   ]
  },
  {
   "cell_type": "code",
   "execution_count": null,
   "metadata": {
    "collapsed": true
   },
   "outputs": [],
   "source": [
    "# Edit Distance"
   ]
  },
  {
   "cell_type": "code",
   "execution_count": null,
   "metadata": {
    "collapsed": true
   },
   "outputs": [],
   "source": [
    "# Expected Number of Restriction Sites"
   ]
  },
  {
   "cell_type": "code",
   "execution_count": null,
   "metadata": {
    "collapsed": true
   },
   "outputs": [],
   "source": [
    "# Motzkin Numbers and RNA Secondary Structures"
   ]
  },
  {
   "cell_type": "code",
   "execution_count": null,
   "metadata": {
    "collapsed": true
   },
   "outputs": [],
   "source": [
    "# Distances in Trees"
   ]
  },
  {
   "cell_type": "code",
   "execution_count": null,
   "metadata": {
    "collapsed": true
   },
   "outputs": [],
   "source": [
    "# Interleaving Two Motifs"
   ]
  },
  {
   "cell_type": "code",
   "execution_count": null,
   "metadata": {
    "collapsed": true
   },
   "outputs": [],
   "source": [
    "# Introduction to Set Operations"
   ]
  },
  {
   "cell_type": "code",
   "execution_count": null,
   "metadata": {
    "collapsed": true
   },
   "outputs": [],
   "source": [
    "# Sorting by Reversals\n"
   ]
  },
  {
   "cell_type": "code",
   "execution_count": null,
   "metadata": {
    "collapsed": true
   },
   "outputs": [],
   "source": [
    "# Inferring Protein from Spectrum\n"
   ]
  },
  {
   "cell_type": "code",
   "execution_count": null,
   "metadata": {
    "collapsed": true
   },
   "outputs": [],
   "source": [
    "# Introduction to Pattern Matching"
   ]
  },
  {
   "cell_type": "code",
   "execution_count": null,
   "metadata": {
    "collapsed": true
   },
   "outputs": [],
   "source": [
    "# Comparing Spectra with the Spectral Convolution"
   ]
  },
  {
   "cell_type": "code",
   "execution_count": null,
   "metadata": {
    "collapsed": true
   },
   "outputs": [],
   "source": [
    "# Creating a Character Table"
   ]
  },
  {
   "cell_type": "code",
   "execution_count": null,
   "metadata": {
    "collapsed": true
   },
   "outputs": [],
   "source": [
    "# Constructing a De Bruijn Graph"
   ]
  },
  {
   "cell_type": "code",
   "execution_count": null,
   "metadata": {
    "collapsed": true
   },
   "outputs": [],
   "source": [
    "# Edit Distance Alignment"
   ]
  },
  {
   "cell_type": "code",
   "execution_count": null,
   "metadata": {
    "collapsed": true
   },
   "outputs": [],
   "source": [
    "# Inferring Peptide from Full Spectrum"
   ]
  },
  {
   "cell_type": "code",
   "execution_count": null,
   "metadata": {
    "collapsed": true
   },
   "outputs": [],
   "source": [
    "# Independent Segregation of Chromosomes"
   ]
  },
  {
   "cell_type": "code",
   "execution_count": null,
   "metadata": {
    "collapsed": true
   },
   "outputs": [],
   "source": [
    "# Finding Disjoint Motifs in a Gene"
   ]
  },
  {
   "cell_type": "code",
   "execution_count": null,
   "metadata": {
    "collapsed": true
   },
   "outputs": [],
   "source": [
    "# Finding the Longest Multiple Repeat\n"
   ]
  },
  {
   "cell_type": "code",
   "execution_count": null,
   "metadata": {
    "collapsed": true
   },
   "outputs": [],
   "source": [
    "# Newick Format with Edge Weights"
   ]
  },
  {
   "cell_type": "code",
   "execution_count": null,
   "metadata": {
    "collapsed": true
   },
   "outputs": [],
   "source": [
    "# Wobble Bonding and RNA Secondary Structures"
   ]
  },
  {
   "cell_type": "code",
   "execution_count": null,
   "metadata": {
    "collapsed": true
   },
   "outputs": [],
   "source": [
    "# Counting Disease Carriers"
   ]
  },
  {
   "cell_type": "code",
   "execution_count": null,
   "metadata": {
    "collapsed": true
   },
   "outputs": [],
   "source": [
    "# Creating a Character Table from Genetic Strings\n"
   ]
  },
  {
   "cell_type": "code",
   "execution_count": null,
   "metadata": {
    "collapsed": true
   },
   "outputs": [],
   "source": [
    "# Counting Optimal Alignments"
   ]
  },
  {
   "cell_type": "code",
   "execution_count": null,
   "metadata": {
    "collapsed": true
   },
   "outputs": [],
   "source": [
    "# Counting Unrooted Binary Trees"
   ]
  },
  {
   "cell_type": "code",
   "execution_count": null,
   "metadata": {
    "collapsed": true
   },
   "outputs": [],
   "source": [
    "# Global Alignment with Scoring Matrix"
   ]
  },
  {
   "cell_type": "code",
   "execution_count": null,
   "metadata": {
    "collapsed": true
   },
   "outputs": [],
   "source": [
    "# Genome Assembly with Perfect Coverage"
   ]
  },
  {
   "cell_type": "code",
   "execution_count": null,
   "metadata": {
    "collapsed": true
   },
   "outputs": [],
   "source": [
    "# Matching a Spectrum to a Protein"
   ]
  },
  {
   "cell_type": "code",
   "execution_count": null,
   "metadata": {
    "collapsed": true
   },
   "outputs": [],
   "source": [
    "# Quartets"
   ]
  },
  {
   "cell_type": "code",
   "execution_count": null,
   "metadata": {
    "collapsed": true
   },
   "outputs": [],
   "source": [
    "# Using the Spectrum Graph to Infer Peptides\n"
   ]
  },
  {
   "cell_type": "code",
   "execution_count": null,
   "metadata": {
    "collapsed": true
   },
   "outputs": [],
   "source": [
    "# Encoding Suffix Trees"
   ]
  },
  {
   "cell_type": "code",
   "execution_count": null,
   "metadata": {
    "collapsed": true
   },
   "outputs": [],
   "source": [
    "# Character-Based Phylogeny"
   ]
  },
  {
   "cell_type": "code",
   "execution_count": null,
   "metadata": {
    "collapsed": true
   },
   "outputs": [],
   "source": [
    "# Counting Quartets"
   ]
  },
  {
   "cell_type": "code",
   "execution_count": null,
   "metadata": {
    "collapsed": true
   },
   "outputs": [],
   "source": [
    "# Enumerating Unrooted Binary Trees"
   ]
  },
  {
   "cell_type": "code",
   "execution_count": null,
   "metadata": {
    "collapsed": true
   },
   "outputs": [],
   "source": [
    "# Genome Assembly Using Reads"
   ]
  },
  {
   "cell_type": "code",
   "execution_count": null,
   "metadata": {
    "collapsed": true
   },
   "outputs": [],
   "source": [
    "# Global Alignment with Constant Gap Penalty"
   ]
  },
  {
   "cell_type": "code",
   "execution_count": null,
   "metadata": {
    "collapsed": true
   },
   "outputs": [],
   "source": [
    "# Linguistic Complexity of a Genome"
   ]
  },
  {
   "cell_type": "code",
   "execution_count": null,
   "metadata": {
    "collapsed": true
   },
   "outputs": [],
   "source": [
    "# Local Alignment with Scoring Matrix"
   ]
  },
  {
   "cell_type": "code",
   "execution_count": null,
   "metadata": {
    "collapsed": true
   },
   "outputs": [],
   "source": [
    "# Inferring Genotype from a Pedigree\n"
   ]
  },
  {
   "cell_type": "code",
   "execution_count": null,
   "metadata": {
    "collapsed": true
   },
   "outputs": [],
   "source": [
    "# Maximizing the Gap Symbols of an Optimal Alignment"
   ]
  },
  {
   "cell_type": "code",
   "execution_count": null,
   "metadata": {
    "collapsed": true
   },
   "outputs": [],
   "source": [
    "# Identifying Maximal Repeats"
   ]
  },
  {
   "cell_type": "code",
   "execution_count": null,
   "metadata": {
    "collapsed": true
   },
   "outputs": [],
   "source": [
    "# Multiple Alignment"
   ]
  },
  {
   "cell_type": "code",
   "execution_count": null,
   "metadata": {
    "collapsed": true
   },
   "outputs": [],
   "source": [
    "# Creating a Restriction Map"
   ]
  },
  {
   "cell_type": "code",
   "execution_count": null,
   "metadata": {
    "collapsed": true
   },
   "outputs": [],
   "source": [
    "# Counting Rooted Binary Trees"
   ]
  },
  {
   "cell_type": "code",
   "execution_count": null,
   "metadata": {
    "collapsed": true
   },
   "outputs": [],
   "source": [
    "# Sex-Linked Inheritance"
   ]
  },
  {
   "cell_type": "code",
   "execution_count": null,
   "metadata": {
    "collapsed": true
   },
   "outputs": [],
   "source": [
    "# Phylogeny Comparison with Split Distance"
   ]
  },
  {
   "cell_type": "code",
   "execution_count": null,
   "metadata": {
    "collapsed": true
   },
   "outputs": [],
   "source": [
    "# The Wright-Fisher Model of Genetic Drift"
   ]
  },
  {
   "cell_type": "code",
   "execution_count": null,
   "metadata": {
    "collapsed": true
   },
   "outputs": [],
   "source": [
    "# Alignment-Based Phylogeny"
   ]
  },
  {
   "cell_type": "code",
   "execution_count": null,
   "metadata": {
    "collapsed": true
   },
   "outputs": [],
   "source": [
    "# Assessing Assembly Quality with N50 and N75\n"
   ]
  },
  {
   "cell_type": "code",
   "execution_count": null,
   "metadata": {
    "collapsed": true
   },
   "outputs": [],
   "source": [
    "# Fixing an Inconsistent Character Set\n"
   ]
  },
  {
   "cell_type": "code",
   "execution_count": null,
   "metadata": {
    "collapsed": true
   },
   "outputs": [],
   "source": [
    "# Wright-Fisher's Expected Behavior"
   ]
  },
  {
   "cell_type": "code",
   "execution_count": null,
   "metadata": {
    "collapsed": true
   },
   "outputs": [],
   "source": [
    "# The Founder Effect and Genetic Drift"
   ]
  },
  {
   "cell_type": "code",
   "execution_count": null,
   "metadata": {
    "collapsed": true
   },
   "outputs": [],
   "source": [
    "# Global Alignment with Scoring Matrix and Affine Gap Penalty"
   ]
  },
  {
   "cell_type": "code",
   "execution_count": null,
   "metadata": {
    "collapsed": true
   },
   "outputs": [],
   "source": [
    "# Genome Assembly with Perfect Coverage and Repeats"
   ]
  },
  {
   "cell_type": "code",
   "execution_count": null,
   "metadata": {
    "collapsed": true
   },
   "outputs": [],
   "source": [
    "# Overlap Alignment\n"
   ]
  },
  {
   "cell_type": "code",
   "execution_count": null,
   "metadata": {
    "collapsed": true
   },
   "outputs": [],
   "source": [
    "# Quartet Distance\n"
   ]
  },
  {
   "cell_type": "code",
   "execution_count": null,
   "metadata": {
    "collapsed": true
   },
   "outputs": [],
   "source": [
    "# Finding a Motif with Modifications"
   ]
  },
  {
   "cell_type": "code",
   "execution_count": null,
   "metadata": {
    "collapsed": true
   },
   "outputs": [],
   "source": [
    "# Semiglobal Alignment"
   ]
  },
  {
   "cell_type": "code",
   "execution_count": null,
   "metadata": {
    "collapsed": true
   },
   "outputs": [],
   "source": [
    "# Finding All Similar Motifs"
   ]
  },
  {
   "cell_type": "code",
   "execution_count": null,
   "metadata": {
    "collapsed": true
   },
   "outputs": [],
   "source": [
    "# Local Alignment with Affine Gap Penalty"
   ]
  },
  {
   "cell_type": "code",
   "execution_count": null,
   "metadata": {
    "collapsed": true
   },
   "outputs": [],
   "source": [
    "# Isolating Symbols in Alignments\n"
   ]
  },
  {
   "cell_type": "code",
   "execution_count": null,
   "metadata": {
    "collapsed": true
   },
   "outputs": [],
   "source": [
    "# Identifying Reversing Substitutions# "
   ]
  },
  {
   "cell_type": "code",
   "execution_count": null,
   "metadata": {
    "collapsed": true
   },
   "outputs": [],
   "source": []
  }
 ],
 "metadata": {
  "kernelspec": {
   "display_name": "Python 3",
   "language": "python",
   "name": "python3"
  },
  "language_info": {
   "codemirror_mode": {
    "name": "ipython",
    "version": 3
   },
   "file_extension": ".py",
   "mimetype": "text/x-python",
   "name": "python",
   "nbconvert_exporter": "python",
   "pygments_lexer": "ipython3",
   "version": "3.6.3"
  }
 },
 "nbformat": 4,
 "nbformat_minor": 2
}
