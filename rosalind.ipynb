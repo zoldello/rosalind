{
 "cells": [
  {
   "cell_type": "code",
   "execution_count": 2,
   "metadata": {},
   "outputs": [
    {
     "name": "stdout",
     "output_type": "stream",
     "text": [
      "236 246 246 248\n"
     ]
    }
   ],
   "source": [
    "# Counting DNA Nucleotides\n",
    "dNAString = \"AACTCCGAAGGGTGGGTGTAAAAAAGTATGGGAATAAACCCTCCCGCCCTCTGCTGATGACCAGGCGCCACCCTTTTAAACGGTATGACCCGTTAACTCGCTAACCGTGCCGTATCCGCCCGCATCGTGGTCAGCACCTCCCAAGCAAGGGTCGTCGATAACCTTGCCCCAAACTGTGGATGGAAAAGCGCGATCGGATCTACTCGACACTAATTCGCTACCAATTAATGTGCGATACGCAAACGAGTATTAGAGCTTAAGAGACCAACCCAGCGGGCACAAGCGCAATCCAACGTACTCCGGCAGTGAATCCTCTAATGCCATCATTTGTACGCTTTAGGCACACACTTTTATCGCGGTGCCTTCCGTCTTCCCTCCTCATGTGCTGTAGAAACGGGACGTGTGCTCAGTAGTCCCTCCTCAGGGACGATGGCTTAGGGTTCTGGCTACCTGATTAGAGGTATGAGTTGGTTACGTCGGCCTCAATGGGGATAATTCATATACCATTAGGTACCCGTCGTATACCAGATGCCGTCAATTGAAGGTCATGGTACATGCAATTCCTCACGTTGTGACACGCTCATCTATATACGAGAGATCATTTTGTTGGTATCTTGTCTGGTTTCGTCGTTTGGTTAACGAAATTTATAAGCCGCAACCAACGCCGTGAAGAGTCTTTAAAATGCAGTAGTATGCCGCTGGTGGGCAGATCCATGTGGAAGCGGAGCGTCTTTACCCCCATGGGCATTCGCCGCGGTTTTCTGCAGAGCTTAAAGGGTGGTGTCAGAGGACGAGCTATCCAATGATTCAAGAGCAGAACGGAAATACCTTTGGCTTTAAGGCAGATTGTTGCGGCACGGAACGTCTTAACCTAATCACTTCTTTCTCAAGTGAAGGAACTGGCTTGCTTGTGCTCGGCAGCGTGACCTTCAACCGCGGACGAGTGTGTACTATCCGGGATAGCTGCAGCAGTGTC\"\n",
    "aLength = dNAString.count(\"A\")\n",
    "cLength = dNAString.count(\"C\")\n",
    "gLength = dNAString.count(\"G\")\n",
    "tLength = dNAString.count(\"T\")\n",
    "\n",
    "print(\"{} {} {} {}\".format(aLength, cLength, gLength, tLength))\n"
   ]
  },
  {
   "cell_type": "code",
   "execution_count": 4,
   "metadata": {},
   "outputs": [
    {
     "name": "stdout",
     "output_type": "stream",
     "text": [
      "UCGGGAAGUCCGCUGCCUGUCAGAAGGGUAAGGGCCUUCCGUGAGUUCGGCCACGCGUUAUUAUCAAUCUUGGCUCGCCGGAUCUAGGCCUGCAGGUGCACUUAAGCUCGACGGAGCGGAUCAAGCACUAAGUCGUCCGCCCGUCUGAGUGUAUUUGAAUUACCCAAGUAGGAAUCCUGGGCCACUCGGGUAUAUUAAUAAGUUCUAGCGUAUUAUGGCAUACAAAAUAACGCGGUGGUAAGUUGUUUCGGCUCUGGACCAAGAAUGAAUUUCCCCAAACAACGAAUUUCCGAUGAGCCUUAGGUCCCAGAUUCGUGGUCGCAAUGUCGGGGGUCUAUAAUUCCGCGGCUUCAACUCCUUCGUGUUCGUAUUCCGUUGUCGUAAAUGGUAGGCAUGGGAUCUGCGGAAGAAGAGUCACAACGGUUUUAGUCGUGCUCGCACAAUGCGCGGCAGCUCCUGAAGGUGCACAUACCGGGCCGCACGGUUGCCGCAAAAAACACCGCAACCUUAAAUUACUUGAAUCUGUAGUAGUACUAACCUGUAACGUAGCGGGGAAGCAUCACUGAUUUUAUGGAAGCAGUACCAAUUUUAGGGCGAGGGAACCUUACCCACAUCAUCAGGGUUAUGCUCGGGUGGCACGCGUGGAUGGGAGUGGAUGUCUGCUGUAGGCGCUGUGAUGUUGCCGGCUCUACUCGGGAGUCUUGUCGGUAUAUUUUGCCAGUGGAGGGUGAGGGUUCUGGGUUUAUUGGUGAUCGUUAGACGCCGUAUUAGGUCAUCCCCAUCAUUUCCAUUCAAGUGACUUCUAAGUACAUCUCAGGCGCAGGGGCAUAGGCCACGAGUGGAGCUAUCCCUCGGUGAACUGCAACGAGGAGGAGUGUCGGAAGUUUAUCUGGGUGGACGCCAGUGUAUUAAAACCCAUAGGAGCUCUACGCUUGGGUAUACCUUCGACAGGGCCGAUAACAUGUGACAGCGAGUCAAGUAAGGCCAAAGGC\n"
     ]
    }
   ],
   "source": [
    "# Transcribing DNA into RNA \n",
    "dNAString = \"TCGGGAAGTCCGCTGCCTGTCAGAAGGGTAAGGGCCTTCCGTGAGTTCGGCCACGCGTTATTATCAATCTTGGCTCGCCGGATCTAGGCCTGCAGGTGCACTTAAGCTCGACGGAGCGGATCAAGCACTAAGTCGTCCGCCCGTCTGAGTGTATTTGAATTACCCAAGTAGGAATCCTGGGCCACTCGGGTATATTAATAAGTTCTAGCGTATTATGGCATACAAAATAACGCGGTGGTAAGTTGTTTCGGCTCTGGACCAAGAATGAATTTCCCCAAACAACGAATTTCCGATGAGCCTTAGGTCCCAGATTCGTGGTCGCAATGTCGGGGGTCTATAATTCCGCGGCTTCAACTCCTTCGTGTTCGTATTCCGTTGTCGTAAATGGTAGGCATGGGATCTGCGGAAGAAGAGTCACAACGGTTTTAGTCGTGCTCGCACAATGCGCGGCAGCTCCTGAAGGTGCACATACCGGGCCGCACGGTTGCCGCAAAAAACACCGCAACCTTAAATTACTTGAATCTGTAGTAGTACTAACCTGTAACGTAGCGGGGAAGCATCACTGATTTTATGGAAGCAGTACCAATTTTAGGGCGAGGGAACCTTACCCACATCATCAGGGTTATGCTCGGGTGGCACGCGTGGATGGGAGTGGATGTCTGCTGTAGGCGCTGTGATGTTGCCGGCTCTACTCGGGAGTCTTGTCGGTATATTTTGCCAGTGGAGGGTGAGGGTTCTGGGTTTATTGGTGATCGTTAGACGCCGTATTAGGTCATCCCCATCATTTCCATTCAAGTGACTTCTAAGTACATCTCAGGCGCAGGGGCATAGGCCACGAGTGGAGCTATCCCTCGGTGAACTGCAACGAGGAGGAGTGTCGGAAGTTTATCTGGGTGGACGCCAGTGTATTAAAACCCATAGGAGCTCTACGCTTGGGTATACCTTCGACAGGGCCGATAACATGTGACAGCGAGTCAAGTAAGGCCAAAGGC\"\n",
    "rNAString = dNAString.replace('T', 'U')\n",
    "print(rNAString) "
   ]
  },
  {
   "cell_type": "code",
   "execution_count": 8,
   "metadata": {},
   "outputs": [
    {
     "name": "stdout",
     "output_type": "stream",
     "text": [
      "CTGCCATTAACTCCGCGGGTTCGAGACACCTTCGATAGATGAACTAGGCGATACTATACCCGTCTTGCTTGGATGAAGAGTGTTTTGCCCGGTCTGAGCTCTCACATAGCGATGGGACTCGCCGGACATGTTTCAAGCTTCTGTCCAAATCGATCACCCTCACCCGCAAGGTGCTCTCTGTCAGGGCGCCTCCTGACGCACCACGAACTACAGGATCATCGCATCCACGTCAACCGTCAGGCGAAGCCGAGTGCATTGAGATAATACAGGCAACCGGTTGGAGCCACGAAACTATTACTCCTTCCCACCTGACTAGGTATCATATGACTGCCATAGCGCACGCACGCGTTATTCTCTGTCGTCCTAGTTCTCGAGCCCCACATCTGACGAACAGCGGTCTACTATATCGTGGCTGACCGGAGAGCACTACCAGTATTGACAAGTCCCTTACACCAATCGCCAGTTACGACACCATGGTAACGAAGTTTCAAGAGCTACCAGTTACTCCCGCTATCACTCCATAAGCGTCAATCGAGAGGAAGACAACACCTCGTGGAGGCCGGTGGTTTTTAACCCGAAAATCTGGCGCAGTAATTCGTTGTATTTATCCACTTACTCCTGGACGCCTCTTCGTAAGCGGCTTCCTTGACACACCAGGTGACTCACCTGCGAGACGGATCCGCAACCTACACGACGTTCAGGAAGCCGGTCCAGTTTGAGTAATCTCAATGTCTAGCCCTACGTGCAGATTGTAGAGGTCGCGTCCGCAAAAAAGTACCTAGCCGTTCTCTCATCCGCCCTGCTCCGAGTACCTAAACAAAAACT\n"
     ]
    }
   ],
   "source": [
    "# Complementing a Strand of DNA\n",
    "dNAString = \"AGTTTTTGTTTAGGTACTCGGAGCAGGGCGGATGAGAGAACGGCTAGGTACTTTTTTGCGGACGCGACCTCTACAATCTGCACGTAGGGCTAGACATTGAGATTACTCAAACTGGACCGGCTTCCTGAACGTCGTGTAGGTTGCGGATCCGTCTCGCAGGTGAGTCACCTGGTGTGTCAAGGAAGCCGCTTACGAAGAGGCGTCCAGGAGTAAGTGGATAAATACAACGAATTACTGCGCCAGATTTTCGGGTTAAAAACCACCGGCCTCCACGAGGTGTTGTCTTCCTCTCGATTGACGCTTATGGAGTGATAGCGGGAGTAACTGGTAGCTCTTGAAACTTCGTTACCATGGTGTCGTAACTGGCGATTGGTGTAAGGGACTTGTCAATACTGGTAGTGCTCTCCGGTCAGCCACGATATAGTAGACCGCTGTTCGTCAGATGTGGGGCTCGAGAACTAGGACGACAGAGAATAACGCGTGCGTGCGCTATGGCAGTCATATGATACCTAGTCAGGTGGGAAGGAGTAATAGTTTCGTGGCTCCAACCGGTTGCCTGTATTATCTCAATGCACTCGGCTTCGCCTGACGGTTGACGTGGATGCGATGATCCTGTAGTTCGTGGTGCGTCAGGAGGCGCCCTGACAGAGAGCACCTTGCGGGTGAGGGTGATCGATTTGGACAGAAGCTTGAAACATGTCCGGCGAGTCCCATCGCTATGTGAGAGCTCAGACCGGGCAAAACACTCTTCATCCAAGCAAGACGGGTATAGTATCGCCTAGTTCATCTATCGAAGGTGTCTCGAACCCGCGGAGTTAATGGCAG\"\n",
    "dNAStringReversed = dNAString[::-1]\n",
    "# Made lower-cased to avoid comflicts like A to T and then T to A\n",
    "dNAReversedComplement = dNAStringReversed.lower().replace('a', 'T').replace('c', 'G').replace('t', 'A').replace('g', 'C')\n",
    "print(dNAReversedComplement)\n"
   ]
  },
  {
   "cell_type": "code",
   "execution_count": 20,
   "metadata": {},
   "outputs": [
    {
     "name": "stdout",
     "output_type": "stream",
     "text": [
      "Rosalind_0808\n",
      "61.66666666666667\n"
     ]
    }
   ],
   "source": [
    "#Count GC Cont\n",
    "\n",
    "FASTA = \"\"\">Rosalind_6404\n",
    "CCTGCGGAAGATCGGCACTAGAATAGCCAGAACCGTTTCTCTGAGGCTTCCGGCCTTCCC\n",
    "TCCCACTAATAATTCTGAGG\n",
    ">Rosalind_5959\n",
    "CCATCGGTAGCGCATCCTTAGTCCAATTAAGTCCCTATCCAGGCGCTCCGCCGAAGGTCT\n",
    "ATATCCATTTGTCAGCAGACACGC\n",
    ">Rosalind_0808\n",
    "CCACCCTCGTGGTATGGCTAGGCATTCAGGAACCGGAGAACGCTTCAGACCAGCCCGGAC\n",
    "TGGGAACCTGCGGGCAGTAGGTGGAAT\"\"\"\n",
    "\n",
    "line_reads = FASTA.strip().split('>')\n",
    "\n",
    "line_reads = [line for line in line_read if line != None and line.strip() != '']\n",
    "FASTA_max_id = None\n",
    "FASTA_max_read = None\n",
    "\n",
    "for line in line_reads:\n",
    "    if line is None or line.strip() == '':\n",
    "        continue\n",
    "    \n",
    "    line_split = line.split('\\n')\n",
    "    genome = line_split[1].upper()\n",
    "    genome_count = len(genome)\n",
    "    \n",
    "    if genome_count == 0:\n",
    "        continue\n",
    "        \n",
    "    id = line_split[0]\n",
    "    \n",
    "    if id == None or id.strip() == '':\n",
    "        continue\n",
    "    \n",
    "    g_count = genome.count('G')\n",
    "    c_count = genome.count('C')\n",
    "    genome_count = len(genome)\n",
    "    gc_content = ((g_count + c_count) / genome_count) * 100.0\n",
    "    \n",
    "    if FASTA_max_gc < gc_content:\n",
    "        FASTA_max_id = id\n",
    "        FASTA_max_read = gc_content\n",
    " \n",
    "print(\"\".join([FASTA_max_id, '\\n', str(FASTA_max_read)]))\n"
   ]
  },
  {
   "cell_type": "code",
   "execution_count": 23,
   "metadata": {},
   "outputs": [
    {
     "name": "stdout",
     "output_type": "stream",
     "text": [
      "2\n"
     ]
    }
   ],
   "source": [
    "#Finding a Motif in DNA\n",
    "\n",
    "string = 'GATATATGCATATACTT'\n",
    "sub_string = 'ATAT'\n",
    "\n",
    "\n",
    "sub_string_count = string.count(sub_string)\n",
    "\n",
    "print(sub_string_count)\n",
    "\n",
    "\n",
    "\n"
   ]
  },
  {
   "cell_type": "code",
   "execution_count": 42,
   "metadata": {},
   "outputs": [
    {
     "name": "stdout",
     "output_type": "stream",
     "text": [
      "MAMAPRTEINSTRING\n"
     ]
    }
   ],
   "source": [
    "#Translating RNA into Protein solved\n",
    "\n",
    "rna_condon_table = { \n",
    "    'UUU':  'F'      \n",
    "    , 'UUC':  'F'      \n",
    "    , 'UUA':  'L'      \n",
    "    , 'UUG':  'L'      \n",
    "    , 'UCU':  'S'      \n",
    "    , 'UCC':  'S'      \n",
    "    , 'UCA':  'S'      \n",
    "    , 'UCG':  'S'      \n",
    "    , 'UAU':  'Y'      \n",
    "    , 'UAC':  'Y'      \n",
    "    , 'UAA':  'STOP'   \n",
    "    , 'UAG':  'STOP'   \n",
    "    , 'UGU':  'C'      \n",
    "    , 'UGC':  'C'      \n",
    "    , 'UGA':  'STOP'   \n",
    "    , 'UGG':  'W'       \n",
    "    , 'CUU':  'L'      \n",
    "    , 'CUC':  'L'      \n",
    "    , 'CUA':  'L'      \n",
    "    , 'CUG':  'L'      \n",
    "    , 'CCU':  'P'      \n",
    "    , 'CCC':  'P'      \n",
    "    , 'CCA':  'P'      \n",
    "    , 'CCG':  'P'      \n",
    "    , 'CAU':  'H'      \n",
    "    , 'CAC':  'H'      \n",
    "    , 'CAA':  'Q'      \n",
    "    , 'CAG':  'Q'      \n",
    "    , 'CGU':  'R'      \n",
    "    , 'CGC':  'R'      \n",
    "    , 'CGA':  'R'      \n",
    "    , 'CGG':  'R'      \n",
    "    , 'AUU':  'I'      \n",
    "    , 'AUC':  'I'      \n",
    "    , 'AUA':  'I'      \n",
    "    , 'AUG':  'M'      \n",
    "    , 'ACU':  'T'      \n",
    "    , 'ACC':  'T'      \n",
    "    , 'ACA':  'T'      \n",
    "    , 'ACG':  'T'      \n",
    "    , 'AAU':  'N'      \n",
    "    , 'AAC':  'N'      \n",
    "    , 'AAA':  'K'      \n",
    "    , 'AAG':  'K'      \n",
    "    , 'AGU':  'S'      \n",
    "    , 'AGC':  'S'      \n",
    "    , 'AGA':  'R'      \n",
    "    , 'AGG':  'R'      \n",
    "    , 'GUU':  'V'\n",
    "    , 'GUC':  'V'\n",
    "    , 'GUA':  'V'\n",
    "    , 'GUG':  'V'\n",
    "    , 'GCU':  'A'\n",
    "    , 'GCC':  'A'\n",
    "    , 'GCA':  'A'\n",
    "    , 'GCG':  'A'\n",
    "    , 'GAU':  'D'\n",
    "    , 'GAC':  'D'\n",
    "    , 'GAA':  'E'\n",
    "    , 'GAG':  'E'\n",
    "    , 'GGU':  'G'\n",
    "    , 'GGC':  'G'\n",
    "    , 'GGA':  'G' \n",
    "    , 'GGG':  'G' }  \n",
    "\n",
    "def get_condon_from_rna_string(rna):\n",
    "    if rna == null or rna.strip() == '':\n",
    "        print('rna string is empty')\n",
    "        return\n",
    "    \n",
    "    rna_sanitized = rna.strip()\n",
    "    \n",
    "    rna_string_len = rna_sanitized.len\n",
    "    \n",
    "    if rna_string_length != 3:\n",
    "        print('rna string\\'s length must be three. The string\\'s length is: {}'.format(rna_string_len))\n",
    "        return\n",
    "    \n",
    "    condon_map = {\n",
    "        'AUG': 'A'\n",
    "    }\n",
    "\n",
    "    \n",
    "def get_condons(rna_string):\n",
    "    \"\"\"Return the conon an rna string encodes \"\"\"\n",
    "    \n",
    "    if rna_string == None or rna_string.strip() == '':\n",
    "        print('rna string is empty. It must be non-empty to proceed')\n",
    "        return\n",
    "\n",
    "    rna_string_sanitized = rna_string.strip()\n",
    "    rna_string_len = len(rna_string_sanitized)\n",
    "\n",
    "    if rna_string_len % 3 != 0:\n",
    "        print('rna string cannot be broken up into groups of threes. The string is: {}'.format(rna_string_sanitized))\n",
    "        return\n",
    "\n",
    "    protein_string = []\n",
    "    \n",
    "    for i in range(0, rna_string_len, 3):\n",
    "        rna_substring = rna_string_sanitized[i: i+3]\n",
    "        condon_unsanitized = (rna_condon_table[rna_substring])\n",
    "        condon = condon_unsanitized.strip() if condon_unsanitized != None and condon_unsanitized.strip() != '' else ''\n",
    "        \n",
    "        if (condon == 'STOP'):\n",
    "            break\n",
    "            \n",
    "        protein_string.append(condon)\n",
    "        \n",
    "    print(''.join(protein_string))\n",
    "\n",
    "rna_string = 'AUGGCCAUGGCGCCCAGAACUGAGAUCAAUAGUACCCGUAUUAACGGGUGA'\n",
    "get_condons(rna_string)"
   ]
  },
  {
   "cell_type": "code",
   "execution_count": null,
   "metadata": {
    "collapsed": true
   },
   "outputs": [],
   "source": []
  },
  {
   "cell_type": "code",
   "execution_count": null,
   "metadata": {
    "collapsed": true
   },
   "outputs": [],
   "source": []
  }
 ],
 "metadata": {
  "kernelspec": {
   "display_name": "Python 3",
   "language": "python",
   "name": "python3"
  },
  "language_info": {
   "codemirror_mode": {
    "name": "ipython",
    "version": 3
   },
   "file_extension": ".py",
   "mimetype": "text/x-python",
   "name": "python",
   "nbconvert_exporter": "python",
   "pygments_lexer": "ipython3",
   "version": "3.6.3"
  }
 },
 "nbformat": 4,
 "nbformat_minor": 2
}
